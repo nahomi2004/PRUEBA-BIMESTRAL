﻿{
  "metadata": {
    "name": "Nahomi_Cabrera_1306",
    "kernelspec": {
      "language": "scala",
      "name": "spark2-scala"
    },
    "language_info": {
      "codemirror_mode": "text/x-scala",
      "file_extension": ".scala",
      "mimetype": "text/x-scala",
      "name": "scala",
      "pygments_lexer": "scala"
    }
  },
  "nbformat": 4,
  "nbformat_minor": 2,
  "cells": [
    {
      "cell_type": "code",
      "execution_count": 0,
      "metadata": {
        "autoscroll": "auto"
      },
      "outputs": [],
      "source": "1+1\n"
    },
    {
      "cell_type": "code",
      "execution_count": 1,
      "metadata": {
        "autoscroll": "auto"
      },
      "outputs": [],
      "source": "val data \u003d spark\n    .read\n    .option(\"inferSchema\", \"true\")\n    .option(\"header\", \"true\")\n    .option(\"delimiter\", \",\")\n    .csv(\"/home/nahomi/Descargas/owid-covid-data.csv\")"
    },
    {
      "cell_type": "markdown",
      "metadata": {},
      "source": " \n\n\u003e Instalar curl \u003c\n\nsudo snap install curl\n\n\n\u003e Instalar spark (2 comandos que pueden servir) \u003c\n\ncurl https://dlcdn.apache.org/spark/spark-3.2.1/spark-3.2.1-bin-hadoop3.2.tgz -o spark.tgz\nwget https://archive.apache.org/dist/spark/spark-3.2.1/spark-3.2.1-bin-hadoop3.2.tgz\n\n\n\u003e Instalar sdkman \u003c\n\ncurl -s \"https://get.sdkman.io\" | bash\n\n\n\u003e Instalar java \u003c\n\nsdk list java\nsdk install java 11.0.23.fx-zulu\njava version --\u003e Comprobar versión\n\n\n\u003e Instalar Scala \u003c\n\nsdk install scala 2.12.1\n\n\n\u003e Instalar Zeppelin (2 comandos) \u003c\n\nwget https://archive.apache.org/dist/zeppelin/zeppelin-0.11.1/zeppelin-0.11.1-bin-all.tgz\ncurl https://dlcdn.apache.org/zepellin/zepellin/0.11.1/zepellin-0.11.1-bin-all.tgz\n\n\n\u003e Activar, detener y borrar configuraciones \u003c\n\ncd zeppelin-0.11.1-bin-all/bin\nls\n./zeppelin-daemon.sh start\n./zeppelin-daemon.sh stop\n./zeppelin-daemon.sh restart\nrm -rf ~/zeppelin-0.11.1-bin-all/conf\n\n\n\u003e Otros comandos importantes \u003c\n\npwd (donde estoy ubicado en este momento)\nls (lo que tengo instalado -\u003e azul, rojo -\u003e archivos comprimidos)\nls -al (lista lo q tenemos pero ya con fecha. los permisos tambien estan ahi w de de write, r de read y asi uwu)\ncd (para entrar a la carpeta x --\u003e cd spark + tab)\ncd .. (regresar)\n\n\n\u003e (Errores de permiso) \u003c\n\nsudo chmod +x /home/nahomi/.sdkman/bin/sdkman-init.sh\nsudo chown nahomi:nahomi //home/nahomi/.sdkman/bin/sdkman-init.sh\nsource /home/nahomi/.sdkman/bin/sdkman-init.sh\n\n\n\u003e (Error por esos archivos con ._) \u003c\n\nfind . -name \u0027._*\u0027 -delete\n\n\nRepositorio para que se entiendan mejor los comandos\nhttps://github.com/nahomi2004/PRUEBA-BIMESTRAL/blob/main/TXT/PRACTICA%201603%20ZEPPELIN"
    }
  ]
}