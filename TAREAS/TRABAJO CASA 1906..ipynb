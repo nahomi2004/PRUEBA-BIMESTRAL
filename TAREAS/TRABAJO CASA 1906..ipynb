﻿{
  "metadata": {
    "name": "TRABAJO CASA 1906",
    "kernelspec": {
      "language": "scala",
      "name": "spark2-scala"
    },
    "language_info": {
      "codemirror_mode": "text/x-scala",
      "file_extension": ".scala",
      "mimetype": "text/x-scala",
      "name": "scala",
      "pygments_lexer": "scala"
    }
  },
  "nbformat": 4,
  "nbformat_minor": 2,
  "cells": [
    {
      "cell_type": "code",
      "execution_count": 0,
      "metadata": {
        "autoscroll": "auto"
      },
      "outputs": [],
      "source": "%java\nimport java.text.*;\nimport java.util.*;\nimport java.util.Date;\n \npublic class DateExample {\n \n   public static void main(String args[]) {\n \n     // Obtener la fecha\n     Date now \u003d new Date();\n \n     // Obtener los formateadores de fecha de los entornos nacionales\n     // predeterminados, alemán y francés\n     DateFormat theDate \u003d DateFormat.getDateInstance(DateFormat.LONG);\n     DateFormat germanDate \u003d DateFormat.getDateInstance(DateFormat.LONG, Locale.GERMANY);\n     DateFormat frenchDate \u003d DateFormat.getDateInstance(DateFormat.LONG, Locale.FRANCE);\n \n     // Formatear e imprimir las fechas\n     System.out.println(\"Fecha en el entorno nacional predeterminado: \" + theDate.format(now));\n     System.out.println(\"Fecha en el entorno nacional Alemán: \" + germanDate.format(now));\n     System.out.println(\"Fecha en el entorno nacional Francés: \" + frenchDate.format(now));  \n   } \n}"
    },
    {
      "cell_type": "code",
      "execution_count": 1,
      "metadata": {
        "autoscroll": "auto"
      },
      "outputs": [],
      "source": "%java\nimport java.lang.*;\nimport java.text.*;\nimport java.util.*;\n \n public class NumberExample {\n \n     public static void main(String args[]) throws NumberFormatException {\n \n       // El número que debe formatearse\n       double number \u003d 12345.678;\n \n       // Obtener formateadores de los entornos nacionales\n       // predeterminado, español y japonés\n       NumberFormat defaultFormat \u003d NumberFormat.getInstance();\n       NumberFormat spanishFormat \u003d NumberFormat.getInstance(new Locale(\"es\", \"ES\"));\n       NumberFormat japaneseFormat \u003d NumberFormat.getInstance(Locale.JAPAN);\n \n       // Imprimir número con los formatos predeterminado, español y japonés\n       // (Nota: NumberFormat no es necesario para el formato predeterminado)\n       System.out.println(\"El número formateado para el entorno nacional predeterminado; \" +\n                          defaultFormat.format(number));\n       System.out.println(\"El número formateado para el entorno nacional Español; \" +\n                          spanishFormat.format(number));\n       System.out.println(\"El número formateado para el entorno nacional Japonés; \" +\n                          japaneseFormat.format(number));\n     }\n }"
    },
    {
      "cell_type": "code",
      "execution_count": 2,
      "metadata": {
        "autoscroll": "auto"
      },
      "outputs": [],
      "source": "%java\nimport java.util.Random;\n\npublic class secuencial {\n    \n    static int m; // Columnas de la matriz\n    static int[][] matriz; // Matriz a llenar\n    static int[] contNums; // Contador para cada número\n    static int repNums;\n    static int n; \n    \n    public static void main(String[] args) {\n        \n        n \u003d 3;\n        m \u003d 4;\n\n        if (m % 2 \u003d\u003d 0) {\n            matriz \u003d new int[n][m]; \n            contNums \u003d new int[n]; \n            repNums \u003d (n * m) / n; // Número de repeticiones para cada número\n\n            completarMatriz();\n\n            // Imprimir la matriz final\n            System.out.println(\"\\nMatriz final:\");\n            for (int i \u003d 0; i \u003c n; i++) {\n                for (int j \u003d 0; j \u003c m; j++) {\n                    System.out.print(matriz[i][j] + \" \");\n                }\n                System.out.println();\n            }\n\n            // Contar números repetidos\n            for (int i \u003d 1; i \u003c\u003d n; i++) {\n                contar(i);\n            }\n            \n        } else {\n            System.out.println(\"El número de columnas debe ser par\");\n        }\n    }\n\n    public static void completarMatriz() {\n        Random rand \u003d new Random();\n        int filledCount \u003d 0;\n\n        while (filledCount \u003c n * m) {\n            int num \u003d rand.nextInt(n) + 1; // Genera un número aleatorio entre 1 y n\n            if (contNums[num - 1] \u003c repNums) { // Si no se han insertado todas las repeticiones de este número\n                boolean insertar \u003d false;\n                while (!insertar) {\n                    int i \u003d rand.nextInt(n); // genera numeros desde n\n                    int j \u003d rand.nextInt(m); // genera las repeticiones de los numeros\n                    if (matriz[i][j] \u003d\u003d 0) {\n                        matriz[i][j] \u003d num;\n                        contNums[num - 1]++;\n                        filledCount++;\n                        System.out.println(\"Se insertó \" + num + \" en la posición [\" + i + \"][\" + j + \"]\");\n                        insertar \u003d true;\n                    }\n                }\n            }\n        }\n    }\n    \n    public static void contar(int numero) {\n        int cont \u003d 0;\n        for (int i \u003d 0; i \u003c n; i++) {\n            for (int j \u003d 0; j \u003c m; j++) {\n                if (matriz[i][j] \u003d\u003d numero) {\n                    cont++;\n                }\n            }\n        }\n        System.out.println(\"Hay \" + cont + \" números \" + numero + \" en la matriz.\");\n    }\n}"
    },
    {
      "cell_type": "code",
      "execution_count": 3,
      "metadata": {
        "autoscroll": "auto"
      },
      "outputs": [],
      "source": "%python\n# Listas\nfrutas \u003d [\"manzana\", \"plátano\", \"naranja\"]\nprint(frutas)\n\n# Acceder a un elemento de la lista\nprint(frutas[0])\n\n# Agregar un elemento a la lista\nfrutas.append(\"pera\")\nprint(frutas)\n\n# Longitud de la lista\nprint(len(frutas))\n"
    },
    {
      "cell_type": "code",
      "execution_count": 4,
      "metadata": {
        "autoscroll": "auto"
      },
      "outputs": [],
      "source": "%python\nnumeros \u003d [1, 2, 3, 4, 5]\n\ndef suma(a, b):\n    return a + b\n    \ndef mul(a, b):\n    return a * b;\n\ndef div(a, b):\n    return a / b;\n    \nfor i in range(4):\n    print(\u0027Suma: \u0027, suma(numeros[i], numeros[i + 1]), \n          \u0027 - Multiplicacion: \u0027, mul(numeros[i], numeros[i + 1]), \n          \u0027 - Division: \u0027, div(numeros[i], numeros[i + 1]))\n"
    },
    {
      "cell_type": "code",
      "execution_count": 5,
      "metadata": {
        "autoscroll": "auto"
      },
      "outputs": [],
      "source": "%python\nimport random\nnum \u003d random.randint(5, 10) \n\nprint(\u0027Saltos de rana\u0027)\nprint(\u0027Hola, soy Zep y voy a saltar\u0027, num ,\u0027veces\u0027)\n\nprint(\u0027  @..@\u0027)\nprint(\u0027 (----)\u0027)\nprint(\u0027( \\__/ )\u0027)\nprint(\u0027 ^^  ^^\u0027)\n\nfor i in range(num):\n    print(\u0027 /\\\\  /\\\\\u0027)\n    \nprint(\u0027  @..@\u0027)\nprint(\u0027 (----)  - llegué \u003c3\u0027)\nprint(\u0027( \\__/ )\u0027)\nprint(\u0027 ^^  ^^\u0027)"
    },
    {
      "cell_type": "code",
      "execution_count": 6,
      "metadata": {
        "autoscroll": "auto"
      },
      "outputs": [],
      "source": "%python\nimport random\nnum \u003d random.randint(0, 10)\nnum2 \u003d random.randint(0, 10)\n\ntry:\n    resultado \u003d num / num2\n    print(num, \u0027 / \u0027, num2, \u0027 \u003d \u0027, resultado)\nexcept ZeroDivisionError:\n    print(num, \u0027 / \u0027, num2, \u0027 \u003d Pipipi\u0027)\n    print(\"Error: división por cero\")"
    },
    {
      "cell_type": "raw",
      "metadata": {
        "format": "text/plain"
      },
      "source": "%python\n"
    }
  ]
}